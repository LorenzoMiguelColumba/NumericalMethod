{
  "nbformat": 4,
  "nbformat_minor": 0,
  "metadata": {
    "kernelspec": {
      "display_name": "Python 3",
      "language": "python",
      "name": "python3"
    },
    "language_info": {
      "codemirror_mode": {
        "name": "ipython",
        "version": 3
      },
      "file_extension": ".py",
      "mimetype": "text/x-python",
      "name": "python",
      "nbconvert_exporter": "python",
      "pygments_lexer": "ipython3",
      "version": "3.8.3"
    },
    "colab": {
      "name": "58015_NumericaIIntegration_Ni.ipynb",
      "provenance": [],
      "collapsed_sections": []
    }
  },
  "cells": [
    {
      "cell_type": "markdown",
      "metadata": {
        "id": "z-PP-n8syZMq"
      },
      "source": [
        "<h2><b>Numerical Methods\n",
        "<h6><b>Problem Set: Integration \n",
        "<h5><i>Coded and Submitted by\n",
        "Group 3:<br><br>\n",
        "Columba, Lorenzo Miguel L.<br>\n",
        "Datay, Danica Mae L.<br>\n",
        "Embuscado, Khayle Anthony L.<br>\n",
        "Tagalog, Flor-Ann B.\n"
      ]
    },
    {
      "cell_type": "markdown",
      "metadata": {
        "id": "WxYxT2vG9cIW"
      },
      "source": [
        "<b>Assignment Content</b>\n",
        "\n",
        "\n",
        "\n",
        "1.   Research on the different numerical integration functions implemented in scipy. Explain in your report the function/s with three (3) different functions as examples.\n",
        "\n",
        "2.    Create numerical integration of two sample cases for each of the following functions: higher-order polynomials (degrees greater than 4), trigonometric functions, and logarithmic functions.\n",
        "\n",
        "\n",
        "*   Implement the numerical integration techniques used in this notebook including the scipy function/s\n",
        "*   Measure and compare the errors of each integration technique to the functions you have created.\n",
        "\n",
        "\n",
        "3.   Research on the \"Law of Big Numbers\" and explain the law through:\n",
        "\n",
        "\n",
        "*   Testing Simpson's 3/8 Rule by initializing the bin sizes to be arbitrarily large. Run this for 100 iterations while decreasing the bin sizes by a factor of 100. Graph the errors using matplotlib.\n",
        "*   Testing the Monte Carlo Simulation with initializing the sample size from an arbitrarily small size. Run this for 100 iterations while increasing the sample sizes by a factor of 100. Graph the errors using matplotlib.\n",
        "\n",
        "<b>Submission reminders</b>\n",
        "\n",
        "*   Please submit using the prescribed format.\n",
        "*   Refrain from including the questions in the submission.\n",
        "*   If no names of the authors is given, a failing grade of zero (0) will be assigned to the submission.\n",
        "*   Submit in PDF format. Save it using the filename: Section_ActivityName_GroupName\n",
        "*   Use IEEE citation format.\n",
        "*   DO NOT plagiarize or perform any form of academic dishonesty as prescribed by the Student Manual.\n",
        "\n",
        "\n",
        "\n",
        "\n",
        "\n",
        "\n",
        "\n",
        "\n",
        "\n",
        "\n"
      ]
    },
    {
      "cell_type": "code",
      "metadata": {
        "id": "JBCcW-YGyZM3"
      },
      "source": [
        "import numpy as np\n",
        "from scipy.integrate import quad \n",
        "from scipy.integrate import dblquad \n",
        "from scipy.integrate import nquad \n",
        "from scipy import integrate\n",
        "import matplotlib.pyplot as plt\n",
        "from matplotlib import style"
      ],
      "execution_count": 8,
      "outputs": []
    },
    {
      "cell_type": "markdown",
      "metadata": {
        "id": "bio-8LghyZM5"
      },
      "source": [
        "# Numerical Integration Using scipy Library \n",
        "\n",
        "### scipy Library\n",
        "scipy Library is a module that is used in scientific programming in the fields of Linear Algebra, Integration and Differentiation(calculus), Ordinary Differential Equations, and Signal processing.\n",
        "### scipy- Integration(scipy.integrate)\n",
        "Integration is the process of approximating the computations of integrals using numerical techniques \n",
        "\n",
        "### Methods for Integrating Functions:\n",
        "- <b>quad:</b> A function that used in single variable integration. this method calculates a definite integral of a function from <i>a</i> to <i>b</i> and returns two values which are the integral value and the estimated absolute error of the integral<br>\n",
        "this method requires three inputs. the function to be solved, a lower boundary, and a upper boundary.\n",
        "<br>\n",
        "<br>\n",
        "- <b>dblquad:</b> A function that used in double integration.This method calculates the double integral of a function <i>(y,x)</i> from <i>a</i> to <i>b/</i>i and <i>gfun(x)</i> to <i>hfun(x)</i> and returns two values which are the integral value and the estimated absolute error of the integral<br>this method requires five inputs. the function to be solved, a lower boundary for x and y, a upper boundary for x and y.\n",
        "<br>\n",
        "<br>\n",
        "- <b>nquad:</b> A function that used in n-fold integrationThis method calculates integral over multiple varibales.this method requires two inputs. the function to be solved, and a list of bounds which is declared as ranges. this method returns two values which are the integrated value and the estimated absolute error of the integral[[1]](hhttps://www.youtube.com/watch?v=96ce6tlNTs0.)\n"
      ]
    },
    {
      "cell_type": "markdown",
      "metadata": {
        "id": "8-aQ78YSyZM6"
      },
      "source": [
        "### Example of Methods for Integrating Functions:"
      ]
    },
    {
      "cell_type": "code",
      "metadata": {
        "id": "1ye0xNHcyZM7"
      },
      "source": [
        "#equations\n",
        "f_x1= lambda x: 2*x  #one variable example\n",
        "f_x2= lambda x,y: 4*x+2*y #two variable example\n",
        "f_x3= lambda x,y,z: (2*x+4*y*-z) #three variable example"
      ],
      "execution_count": null,
      "outputs": []
    },
    {
      "cell_type": "code",
      "metadata": {
        "id": "0zKGAuFJyZM7",
        "outputId": "02ab56f0-49bb-408b-a3a9-fead478d5849"
      },
      "source": [
        "quad (f_x1,0,1)"
      ],
      "execution_count": null,
      "outputs": [
        {
          "output_type": "execute_result",
          "data": {
            "text/plain": [
              "(1.0, 1.1102230246251565e-14)"
            ]
          },
          "metadata": {
            "tags": []
          },
          "execution_count": 3
        }
      ]
    },
    {
      "cell_type": "code",
      "metadata": {
        "id": "YST0wiwNyZM8",
        "outputId": "b07ad745-c3e2-44ff-c51a-dfa5d8267ce0"
      },
      "source": [
        "dblquad (f_x2,0,2,0,5)"
      ],
      "execution_count": null,
      "outputs": [
        {
          "output_type": "execute_result",
          "data": {
            "text/plain": [
              "(120.00000000000001, 1.332267629550188e-12)"
            ]
          },
          "metadata": {
            "tags": []
          },
          "execution_count": 4
        }
      ]
    },
    {
      "cell_type": "code",
      "metadata": {
        "id": "RFoXYiXZyZM9",
        "outputId": "61ef089b-1c33-4643-bf89-3ac0dc79d8b5"
      },
      "source": [
        " nquad(f_x3,[[0,1],[0,1],[0,5]])"
      ],
      "execution_count": null,
      "outputs": [
        {
          "output_type": "execute_result",
          "data": {
            "text/plain": [
              "(-20.0, 2.275844626250449e-13)"
            ]
          },
          "metadata": {
            "tags": []
          },
          "execution_count": 5
        }
      ]
    },
    {
      "cell_type": "markdown",
      "metadata": {
        "id": "YQvcOkWKyZM9"
      },
      "source": [
        "# Sample Cases"
      ]
    },
    {
      "cell_type": "markdown",
      "metadata": {
        "id": "ZLUIJeF5yZM-"
      },
      "source": [
        "### higher-order polynomials (degrees greater than 4)"
      ]
    },
    {
      "cell_type": "code",
      "metadata": {
        "id": "mewVzOaryZM-",
        "outputId": "487d512f-357c-4e4e-d561-09f01c47eb28"
      },
      "source": [
        "f_x4 = lambda x,y,z: (3*x**5+y**2+z)\n",
        "nquad(f_x4, [[0,1],[0,1],[0,5]])"
      ],
      "execution_count": null,
      "outputs": [
        {
          "output_type": "execute_result",
          "data": {
            "text/plain": [
              "(16.666666666666664, 1.850371707708594e-13)"
            ]
          },
          "metadata": {
            "tags": []
          },
          "execution_count": 44
        }
      ]
    },
    {
      "cell_type": "code",
      "metadata": {
        "id": "bF8Q88SRyZM-",
        "outputId": "ae85e1aa-5d25-49b4-c8c5-83e9fdf0247a"
      },
      "source": [
        "f_x5 = lambda x,y,z: (4*x**6+5*y**2-2*z)\n",
        "nquad(f_x5, [[0,1],[0,1],[0,5]])"
      ],
      "execution_count": null,
      "outputs": [
        {
          "output_type": "execute_result",
          "data": {
            "text/plain": [
              "(-13.80952380952381, 1.8093527747536089e-13)"
            ]
          },
          "metadata": {
            "tags": []
          },
          "execution_count": 45
        }
      ]
    },
    {
      "cell_type": "markdown",
      "metadata": {
        "id": "OklOg8rGyZM_"
      },
      "source": [
        "### trigonometric functions"
      ]
    },
    {
      "cell_type": "code",
      "metadata": {
        "id": "vWLbJZCvyZM_",
        "outputId": "3a378dc2-3346-498d-c1f5-6d9597aa6228"
      },
      "source": [
        "from scipy import integrate\n",
        "def f(x):\n",
        "    return np.sin(x)\n",
        "integrate.quad(f,0,np.pi)"
      ],
      "execution_count": null,
      "outputs": [
        {
          "output_type": "execute_result",
          "data": {
            "text/plain": [
              "(2.0, 2.220446049250313e-14)"
            ]
          },
          "metadata": {
            "tags": []
          },
          "execution_count": 32
        }
      ]
    },
    {
      "cell_type": "code",
      "metadata": {
        "id": "DL05KfaYyZM_",
        "outputId": "3308cee7-4810-4df8-925d-b82fc1507a34"
      },
      "source": [
        "def f(x):\n",
        "    return x**2 *np.sin(x)\n",
        "integrate.quad(f,0,np.pi)"
      ],
      "execution_count": null,
      "outputs": [
        {
          "output_type": "execute_result",
          "data": {
            "text/plain": [
              "(5.869604401089359, 6.516569951530559e-14)"
            ]
          },
          "metadata": {
            "tags": []
          },
          "execution_count": 38
        }
      ]
    },
    {
      "cell_type": "markdown",
      "metadata": {
        "id": "ZRg_MEPHyZNA"
      },
      "source": [
        "### logarithmic functions"
      ]
    },
    {
      "cell_type": "code",
      "metadata": {
        "id": "-ZAQ3EJ-yZNA",
        "outputId": "8929f7bf-06e1-4c2f-eb74-a31d7a20361f"
      },
      "source": [
        "f_x8 = lambda x: np.log(32)\n",
        "quad (f_x8,0,1)"
      ],
      "execution_count": null,
      "outputs": [
        {
          "output_type": "execute_result",
          "data": {
            "text/plain": [
              "(3.4657359027997265, 3.84773979655831e-14)"
            ]
          },
          "metadata": {
            "tags": []
          },
          "execution_count": 60
        }
      ]
    },
    {
      "cell_type": "code",
      "metadata": {
        "id": "b8Z_iyfAyZNA",
        "outputId": "974182d2-b7f7-4b6c-a627-ea213930eba4"
      },
      "source": [
        "f_x9 = lambda x: np.log(5**3)\n",
        "quad (f_x9,0,1)"
      ],
      "execution_count": null,
      "outputs": [
        {
          "output_type": "execute_result",
          "data": {
            "text/plain": [
              "(4.8283137373023015, 5.360505081266955e-14)"
            ]
          },
          "metadata": {
            "tags": []
          },
          "execution_count": 59
        }
      ]
    },
    {
      "cell_type": "markdown",
      "metadata": {
        "id": "vNN-ntIhyZNB"
      },
      "source": [
        "# Law of Large Numbers"
      ]
    },
    {
      "cell_type": "markdown",
      "metadata": {
        "id": "1ZIKRui5yZNB"
      },
      "source": [
        "The law of large numbers is a theorem that explains what happens when you repeat an event a large number of times. It says if the same experiment or analysis is replicated a significant number of times separately, the sum of the experiments' outcomes must be similar to the predicted value.[[2]](https://corporatefinanceinstitute.com/resources/knowledge/other/law-of-large-numbers/) It describes of how  the  sum of a large sample of randomly distributed variables that are independently and identically distributed and would be similar to their mean.[[3]](https://stats.libretexts.org/Bookshelves/Computing_and_Modeling/RTG%3A_Simulating_High_Dimensional_Data/The_Monte_Carlo_Simulation_Method#:~:text=%2C%20param1%3D1-,LLN,be%20close%20to%20their%20mean.&text=The%20strong%20law%20of%20large,to%20the%20expected%20value%E2%80%8B.)\n"
      ]
    },
    {
      "cell_type": "markdown",
      "metadata": {
        "id": "usOeYTOJyZNB"
      },
      "source": [
        "## Simpson's 3/8 Rule"
      ]
    },
    {
      "cell_type": "code",
      "metadata": {
        "id": "CkyzAbZ-yZNB",
        "colab": {
          "base_uri": "https://localhost:8080/",
          "height": 561
        },
        "outputId": "b459eeb7-b160-48e5-aeda-3ef567f06029"
      },
      "source": [
        "def simp_38(func,lb,ub,divs):\n",
        "  h = (ub-lb)/divs\n",
        "  A = (func(lb)+func(ub))+ \\\n",
        "            np.sum(3*(func(lb+h*np.arange(1,divs,3))))+ \\\n",
        "            np.sum(3*(func(lb+h*np.arange(2,divs,3))))+ \\\n",
        "            np.sum(2*func(lb+h*np.arange(3,divs,3)))\n",
        "  S = (3*h/8)*A\n",
        "  return S\n",
        "\n",
        "z = lambda x: np.random.uniform(a,b,int(n))\n",
        "sum = simp_38(z,0,1,1e4)\n",
        "print(sum)\n",
        "fig= plt.figure()\n",
        "plt.plot(sum)\n",
        "plt.show()\n"
      ],
      "execution_count": 11,
      "outputs": [
        {
          "output_type": "stream",
          "text": [
            "[0.01525658 0.01528852 0.01526741 0.01529096 0.01526985 0.01527542\n",
            " 0.01528409 0.01530721 0.01527401 0.0152636  0.0152722  0.0152954\n",
            " 0.01526335 0.01529255 0.01525223 0.01527124 0.01526974 0.01527827\n",
            " 0.01528031 0.01526804 0.01526754 0.0152923  0.01526549 0.01526106\n",
            " 0.01528202 0.01527767 0.01528223 0.01526838 0.01530511 0.01529113\n",
            " 0.01526924 0.01526444 0.01527987 0.01527286 0.01527967 0.0153043\n",
            " 0.0152639  0.01527668 0.01526353 0.01527828 0.01528335 0.01525217\n",
            " 0.01525893 0.01527017 0.01528774 0.01526715 0.01529144 0.01528163\n",
            " 0.01528082 0.01529183 0.01527649 0.01526621 0.01528373 0.01528349\n",
            " 0.01527088 0.01528876 0.01530524 0.01530046 0.01527285 0.0152662\n",
            " 0.01528093 0.01526186 0.01529717 0.01529752 0.01527382 0.01527753\n",
            " 0.01529993 0.01528032 0.01527677 0.01524778 0.01528321 0.01525116\n",
            " 0.0152874  0.01527872 0.01528516 0.0152533  0.01528192 0.01527417\n",
            " 0.01527447 0.01527884 0.01527581 0.01526893 0.01525282 0.01527081\n",
            " 0.01526857 0.01524791 0.01523851 0.01527654 0.01530331 0.01524748\n",
            " 0.01527166 0.01527752 0.01524526 0.01525338 0.01530143 0.01527668\n",
            " 0.01526299 0.01526854 0.01528813 0.01529225]\n"
          ],
          "name": "stdout"
        },
        {
          "output_type": "display_data",
          "data": {
            "image/png": "[encoded data removed]",
            "text/plain": [
              "<Figure size 432x288 with 1 Axes>"
            ]
          },
          "metadata": {
            "tags": [],
            "needs_background": "light"
          }
        }
      ]
    },
    {
      "cell_type": "markdown",
      "metadata": {
        "id": "y3lzjHC_yZNC"
      },
      "source": [
        "## Monte Carlo Simulation"
      ]
    },
    {
      "cell_type": "code",
      "metadata": {
        "colab": {
          "base_uri": "https://localhost:8080/",
          "height": 577
        },
        "id": "rYb05HCNyZNC",
        "outputId": "db72cd7a-a7e7-4745-d96b-904320b8afa9"
      },
      "source": [
        "a, b = 0, 1\n",
        "n = 1e2\n",
        "samples = np.random.uniform(a,b,int(n))\n",
        "print(samples.size)\n",
        "print(samples)\n",
        "fig= plt.figure()\n",
        "plt.plot(samples)\n",
        "plt.show()"
      ],
      "execution_count": 9,
      "outputs": [
        {
          "output_type": "stream",
          "text": [
            "100\n",
            "[0.71834944 0.88717429 0.57386742 0.80913754 0.82269214 0.10760242\n",
            " 0.77053181 0.76959024 0.76881189 0.61616717 0.00998934 0.61615607\n",
            " 0.30830127 0.64123492 0.48921502 0.19114653 0.76298853 0.88275046\n",
            " 0.77093418 0.97790669 0.13415928 0.44301153 0.40537895 0.45537187\n",
            " 0.19473779 0.00455388 0.79964576 0.93987652 0.26741734 0.39434153\n",
            " 0.21258662 0.21396507 0.96351586 0.36177553 0.26931896 0.8305636\n",
            " 0.20234812 0.50308601 0.41106098 0.93658081 0.14026649 0.08999309\n",
            " 0.9825543  0.13742653 0.12475884 0.908819   0.23004476 0.87537043\n",
            " 0.93125985 0.25514516 0.01066986 0.52140156 0.2159763  0.76853752\n",
            " 0.55044506 0.32092202 0.20864415 0.18925005 0.0801451  0.1239038\n",
            " 0.00122551 0.8048815  0.47178355 0.89572094 0.88767562 0.96904202\n",
            " 0.85381639 0.27283586 0.0645511  0.13143976 0.06440484 0.64800565\n",
            " 0.85288173 0.56081449 0.19980343 0.86461969 0.62629345 0.33745713\n",
            " 0.76742818 0.37956451 0.68572395 0.93686445 0.37564137 0.60521967\n",
            " 0.02263712 0.34459715 0.892353   0.72671156 0.96584271 0.57393305\n",
            " 0.56552479 0.22542741 0.74338687 0.81969614 0.71155765 0.71461818\n",
            " 0.20200904 0.49393526 0.01101262 0.565915  ]\n"
          ],
          "name": "stdout"
        },
        {
          "output_type": "display_data",
          "data": {
            "image/png": "[encoded data removed]",
            "text/plain": [
              "<Figure size 432x288 with 1 Axes>"
            ]
          },
          "metadata": {
            "tags": [],
            "needs_background": "light"
          }
        }
      ]
    },
    {
      "cell_type": "markdown",
      "metadata": {
        "id": "NUKMa8O4yZNC"
      },
      "source": [
        "### Reference:\n",
        "[1] eMaster Class Academy.\"Learn Scipy - Integration (scipy.integrate)\".youtube[Online]. https://www.youtube.com/watch?v=96ce6tlNTs0. [Accessed 12 May 2021].\n",
        "\n",
        "[2] “Law of Large Numbers - Definition, Example, Applications in Finance,” Corporate Finance Institute, 26-May-2020. [Online]. Available: https://corporatefinanceinstitute.com/resources/knowledge/other/law-of-large-numbers/. [Accessed: 16-May-2021]. \n",
        "\n",
        "[3] Libretexts, “The Monte Carlo Simulation Method,” Statistics LibreTexts, 17-Aug-2020. [Online]. Available: https://stats.libretexts.org/Bookshelves/Computing_and_Modeling/RTG%3A_Simulating_High_Dimensional_Data/The_Monte_Carlo_Simulation_Method#:~:text=%2C%20param1%3D1)-,LLN,be%20close%20to%20their%20mean.&amp;text=The%20strong%20law%20of%20large,to%20the%20expected%20value%E2%80%8B. [Accessed: 16-May-2021]. \n",
        "\n",
        "[4] “numeth2021/NuMeth_6_Numerical_Integration.ipynb at main · dyjdlopez/numeth2021 · GitHub.” https://github.com/dyjdlopez/numeth2021/blob/main/Week%2015%20-%20Numerical%20Integration/NuMeth_6_Numerical_Integration.ipynb (accessed May 16, 2021)."
      ]
    }
  ]
}