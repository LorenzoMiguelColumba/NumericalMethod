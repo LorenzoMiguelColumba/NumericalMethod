{
  "nbformat": 4,
  "nbformat_minor": 0,
  "metadata": {
    "colab": {
      "name": "58015_COLUMBA_LORENZO_MIGUEL_L_NuMeth_1_Linear_Algebra_Review",
      "provenance": [],
      "collapsed_sections": [],
      "include_colab_link": true
    },
    "kernelspec": {
      "name": "python3",
      "display_name": "Python 3"
    }
  },
  "cells": [
    {
      "cell_type": "markdown",
      "metadata": {
        "id": "view-in-github",
        "colab_type": "text"
      },
      "source": [
        "<a href=\"https://colab.research.google.com/github/LorenzoMiguelColumba/NumericalMethod/blob/main/Coding%20Activity%202%20Linear%20Algebra%20Review/58015_COLUMBA_LORENZO_MIGUEL_L_NuMeth_1_Linear_Algebra_Review.ipynb\" target=\"_parent\"><img src=\"https://colab.research.google.com/assets/colab-badge.svg\" alt=\"Open In Colab\"/></a>"
      ]
    },
    {
      "cell_type": "markdown",
      "metadata": {
        "id": "CPi23qJFCw2L"
      },
      "source": [
        "# Linear Algebra\r\n",
        "*by Columba,Lorenzo Miguel L.*<br>\r\n",
        "*February 25, 2021*\r\n",
        "\r\n",
        "\r\n",
        "\r\n",
        "Linear Algebra is one of the fundamental mathematics for Artificial Intelligence Development and also Computer Vision. We will see the applications of Linear Algebra in advanced mathematical techniques such as optimization, vectorized programming, and matrix manipulations. Today we will try to understand the basics of Linear Algebra using Python."
      ]
    },
    {
      "cell_type": "markdown",
      "metadata": {
        "id": "zfQWDrsEDzfi"
      },
      "source": [
        "## 1. Vectors\r\n",
        "NumPy or Numerical Python is a package or library that allows programmers to code and model computations and see them in action. You can check the [NumPy documentation](https://numpy.org/doc/stable/reference/index.html) on how to use their APIs.\r\n",
        "\r\n"
      ]
    },
    {
      "cell_type": "code",
      "metadata": {
        "id": "NyKiAJagCr23",
        "colab": {
          "base_uri": "https://localhost:8080/"
        },
        "outputId": "f2639619-ddbd-4b2c-df4e-321aef4ec15e"
      },
      "source": [
        "## You can install NumPy in your local machine by doing the following line without the \"!\"\r\n",
        "!pip install numpy\r\n",
        "## But in Google Colab NumPy is already installed in your session.\r\n",
        "import numpy as np\r\n",
        "print(f'NumPy library version: {np.__version__}')"
      ],
      "execution_count": null,
      "outputs": [
        {
          "output_type": "stream",
          "text": [
            "Requirement already satisfied: numpy in /usr/local/lib/python3.7/dist-packages (1.19.5)\n",
            "NumPy library version: 1.19.5\n"
          ],
          "name": "stdout"
        }
      ]
    },
    {
      "cell_type": "markdown",
      "metadata": {
        "id": "wr7iZs8-ECIh"
      },
      "source": [
        "### Defining Vectors, Matrices, and Tensors\r\n",
        "Vectors, Matrices, and Tensors are the fundamental objects in Linear Algebra programming. We'll be defining each of these objects specifically in the Computer Science/Engineering perspective since it would be much confusing if we consider their Physics and Pure Mathematics definitions."
      ]
    },
    {
      "cell_type": "markdown",
      "metadata": {
        "id": "hXyQT1GoEICC"
      },
      "source": [
        "#### <i>Scalars</i>\r\n",
        "Scalars are numerical entities that are represented by a single value. "
      ]
    },
    {
      "cell_type": "code",
      "metadata": {
        "id": "euMYAk53D96k",
        "colab": {
          "base_uri": "https://localhost:8080/"
        },
        "outputId": "c6cd83cb-6d2e-4b5f-b249-6e3582ac3f1e"
      },
      "source": [
        "s1 = np.array(11)\r\n",
        "s2 = np.array(2)\r\n",
        "s1+s2"
      ],
      "execution_count": null,
      "outputs": [
        {
          "output_type": "execute_result",
          "data": {
            "text/plain": [
              "13"
            ]
          },
          "metadata": {
            "tags": []
          },
          "execution_count": 2
        }
      ]
    },
    {
      "cell_type": "markdown",
      "metadata": {
        "id": "FJWsNnsnEKPR"
      },
      "source": [
        "#### *Vectors*\r\n",
        "Vectors are array of numerical values or scalars that would represent any feature space. Feature spaces or simply dimensions or the parameters of an equation or a function."
      ]
    },
    {
      "cell_type": "code",
      "metadata": {
        "id": "Y6kqO2sLEOY7",
        "colab": {
          "base_uri": "https://localhost:8080/"
        },
        "outputId": "cd74f77c-5c35-4142-f50b-e79b8420f775"
      },
      "source": [
        "vec1=np.array([1,2,3])\r\n",
        "vec2=np.array([5,6,8])\r\n",
        "vec1 - vec2"
      ],
      "execution_count": null,
      "outputs": [
        {
          "output_type": "execute_result",
          "data": {
            "text/plain": [
              "array([-4, -4, -5])"
            ]
          },
          "metadata": {
            "tags": []
          },
          "execution_count": 3
        }
      ]
    },
    {
      "cell_type": "markdown",
      "metadata": {
        "id": "UpTSGTl0EOqx"
      },
      "source": [
        "#### *Matrices*\r\n",
        "Matrices are array of vectors or a multi-dimensional array for features for an equation or function."
      ]
    },
    {
      "cell_type": "code",
      "metadata": {
        "id": "9RyugRXrEQab",
        "colab": {
          "base_uri": "https://localhost:8080/"
        },
        "outputId": "1311cd5c-3075-425a-f981-72b9c54a315b"
      },
      "source": [
        "A = np.array([\r\n",
        "    [1, 2,5],\r\n",
        "    [3, 1,7],\r\n",
        "    [5,7,8]\r\n",
        "])\r\n",
        "B = np.array([\r\n",
        "    [-1,-2,1],\r\n",
        "    [5,6,8],\r\n",
        "    [4,3,9],\r\n",
        "])\r\n",
        "print(\" Matrices are : \" \"\\n\",A+B)"
      ],
      "execution_count": null,
      "outputs": [
        {
          "output_type": "stream",
          "text": [
            " Matrices are : \n",
            " [[ 0  0  6]\n",
            " [ 8  7 15]\n",
            " [ 9 10 17]]\n"
          ],
          "name": "stdout"
        }
      ]
    },
    {
      "cell_type": "markdown",
      "metadata": {
        "id": "7aHsGCpoEQ_h"
      },
      "source": [
        "#### *Tensors*\r\n",
        "Tensors are an array of matrices. Tensors have dimensions, tensors can have alternate names depending on what dimension they are in. 1D tensors can be considered as vectors, 2D tensors can be considered are matrices, and 3D onwards are called high dimensional tensors."
      ]
    },
    {
      "cell_type": "code",
      "metadata": {
        "id": "0LsB8OX7EWiJ",
        "colab": {
          "base_uri": "https://localhost:8080/"
        },
        "outputId": "2b2fefb2-0b8b-4cbf-c3c0-d0f6b860a5d8"
      },
      "source": [
        "T=np.array([\r\n",
        "            [[-1,1,0],\r\n",
        "             [3,4,5],\r\n",
        "             [7,9,0]],\r\n",
        "     \r\n",
        "            [[2,2,-3],\r\n",
        "             [0,0,0],\r\n",
        "             [4,6,7]]\r\n",
        "])\r\n",
        "print(\"The tensors are: \", '\\n',T)"
      ],
      "execution_count": null,
      "outputs": [
        {
          "output_type": "stream",
          "text": [
            "The tensors are:  \n",
            " [[[-1  1  0]\n",
            "  [ 3  4  5]\n",
            "  [ 7  9  0]]\n",
            "\n",
            " [[ 2  2 -3]\n",
            "  [ 0  0  0]\n",
            "  [ 4  6  7]]]\n"
          ],
          "name": "stdout"
        }
      ]
    },
    {
      "cell_type": "markdown",
      "metadata": {
        "id": "bpwgaV-mESxA"
      },
      "source": [
        "Here's a visual representation of the data types that we are going to use. <br>\r\n",
        "<img src=\"https://static.javatpoint.com/tutorial/pytorch/images/pytorch-tensors.png\">\r\n",
        "\r\n"
      ]
    },
    {
      "cell_type": "markdown",
      "metadata": {
        "id": "DuSXe7etEZPQ"
      },
      "source": [
        "### Describing Tensors\r\n",
        "\r\n",
        "Describing tensors is very important if we want to perform basic to advanced operations with them. The fundamental ways in describing tensors are knowing their shape, size, and dimensions.\r\n"
      ]
    },
    {
      "cell_type": "markdown",
      "metadata": {
        "id": "SwgpdKt9Em2J"
      },
      "source": [
        "#### *Shapes*\r\n",
        "The shape of a tensor tells us how many rows and columns are there in an axis.\r\n"
      ]
    },
    {
      "cell_type": "code",
      "metadata": {
        "id": "1_zIw1OsEluE",
        "colab": {
          "base_uri": "https://localhost:8080/"
        },
        "outputId": "2aaf58c2-0ee8-4ed5-c8df-00acc8100b80"
      },
      "source": [
        "A.shape"
      ],
      "execution_count": null,
      "outputs": [
        {
          "output_type": "execute_result",
          "data": {
            "text/plain": [
              "(3, 3)"
            ]
          },
          "metadata": {
            "tags": []
          },
          "execution_count": 6
        }
      ]
    },
    {
      "cell_type": "markdown",
      "metadata": {
        "id": "8ApYwUyQEpmx"
      },
      "source": [
        "#### <i>Dimensions</i>\r\n",
        "In NumPy the dimension of a tensor is also called axes."
      ]
    },
    {
      "cell_type": "code",
      "metadata": {
        "id": "LCfMGIsrErwR",
        "colab": {
          "base_uri": "https://localhost:8080/"
        },
        "outputId": "30e79f3d-cbf8-429d-b0b0-696c5be08757"
      },
      "source": [
        "B.ndim"
      ],
      "execution_count": null,
      "outputs": [
        {
          "output_type": "execute_result",
          "data": {
            "text/plain": [
              "2"
            ]
          },
          "metadata": {
            "tags": []
          },
          "execution_count": 15
        }
      ]
    },
    {
      "cell_type": "markdown",
      "metadata": {
        "id": "DbzQSFQ1EsPB"
      },
      "source": [
        "#### *Sizes*\r\n",
        "The size of a tensor/ vector/ matrix is simply the total number of elements in it."
      ]
    },
    {
      "cell_type": "code",
      "metadata": {
        "id": "H6HtwIRBEvUB",
        "colab": {
          "base_uri": "https://localhost:8080/"
        },
        "outputId": "f3e04db2-bf60-4464-b675-c583948b994d"
      },
      "source": [
        "s1.size"
      ],
      "execution_count": null,
      "outputs": [
        {
          "output_type": "execute_result",
          "data": {
            "text/plain": [
              "1"
            ]
          },
          "metadata": {
            "tags": []
          },
          "execution_count": 8
        }
      ]
    },
    {
      "cell_type": "markdown",
      "metadata": {
        "id": "bfLvsCCdEvzR"
      },
      "source": [
        "## Types of Matrices\r\n",
        "The notation and use of matrices are probably one of the fundamentals of modern computing. Matrices are also handy representations of complex equations or multiple inter-related equations from 2-dimensional equations to even hundreds and thousands of them.\r\n",
        "\r\n",
        "Let's say for example you have $A$ and $B$ as the system of equations.\r\n",
        "\r\n",
        "$$\r\n",
        "A = \\left\\{\r\n",
        "    \\begin{array}\\\\\r\n",
        "        x + y \\\\ \r\n",
        "        4x - 10y\r\n",
        "    \\end{array}\r\n",
        "\\right. \\\\\r\n",
        "B = \\left\\{\r\n",
        "    \\begin{array}\\\\\r\n",
        "        x+y+z \\\\ \r\n",
        "        3x -2y -z \\\\\r\n",
        "        -x + 4y +2z\r\n",
        "    \\end{array}\r\n",
        "\\right. $$\r\n",
        "\r\n",
        "We could see that $A$ is a system of 2 equations with 2 parameters. While $B$ is a system of 3 equations with 3 parameters. We can represent them as matrices as:\r\n",
        "\r\n",
        "$$\r\n",
        "A=\\begin{bmatrix} 1 & 1 \\\\ 4 & {-10}\\end{bmatrix} \\\\\r\n",
        "B=\\begin{bmatrix} 1 & 1 & 1 \\\\ 3 & -2 & -1 \\\\ -1 & 4 & 2\\end{bmatrix}\r\n",
        "$$\r\n",
        "\r\n",
        "We'll represent the system of linear equations as a matrix. The entities or numbers in matrices are called the elements of a matrix. These elements are arranged and ordered in rows and columns which form the list/array-like structure of matrices. And just like arrays, these elements are indexed according to their position with respect to their rows and columns. This can be represented just like the equation below. Whereas $A$ is a matrix consisting of elements denoted by $a_{i,j}$. Denoted by $i$ is the number of rows in the matrix while $j$ stands for the number of columns.<br>\r\n",
        "Do note that the $size$ of a matrix is $i\\times j$.\r\n",
        "$$A=\\begin{bmatrix}\r\n",
        "a_{(0,0)}&a_{(0,1)}&\\dots&a_{(0,j-1)}\\\\\r\n",
        "a_{(1,0)}&a_{(1,1)}&\\dots&a_{(1,j-1)}\\\\\r\n",
        "\\vdots&\\vdots&\\ddots&\\vdots&\\\\\r\n",
        "a_{(i-1,0)}&a_{(i-1,1)}&\\dots&a_{(i-1,j-1)}\r\n",
        "\\end{bmatrix}\r\n",
        "$$\r\n",
        "We already gone over some of the types of matrices as vectors but we'll further discuss them in this laboratory activity. Since you already know how to describe vectors using shape, dimensions and size attributes, we'll use them to analyze these matrices."
      ]
    },
    {
      "cell_type": "code",
      "metadata": {
        "id": "uICoQit6E06p"
      },
      "source": [
        "def describe_mat(matrix):\r\n",
        "    print(f'Matrix:\\n{matrix}\\n\\nShape:\\t{matrix.shape}\\nRank:\\t{matrix.ndim}\\n')"
      ],
      "execution_count": null,
      "outputs": []
    },
    {
      "cell_type": "code",
      "metadata": {
        "id": "CbF8cedvE7Hr",
        "colab": {
          "base_uri": "https://localhost:8080/"
        },
        "outputId": "1c89ebcc-8a9f-40d4-93ed-cd63e1e40cf2"
      },
      "source": [
        "## Declaring a 2 x 2 matrix\r\n",
        "A = np.array([\r\n",
        "    [1, 2],\r\n",
        "    [3, 4]\r\n",
        "])\r\n",
        "describe_mat(A)"
      ],
      "execution_count": null,
      "outputs": [
        {
          "output_type": "stream",
          "text": [
            "Matrix:\n",
            "[[1 2]\n",
            " [3 4]]\n",
            "\n",
            "Shape:\t(2, 2)\n",
            "Rank:\t2\n",
            "\n"
          ],
          "name": "stdout"
        }
      ]
    },
    {
      "cell_type": "markdown",
      "metadata": {
        "id": "Ig-gl-rSE-uq"
      },
      "source": [
        "### Matrices according to shape"
      ]
    },
    {
      "cell_type": "markdown",
      "metadata": {
        "id": "VHRtsc3fFBWw"
      },
      "source": [
        "#### *Row and Column Matrices*\r\n",
        "\r\n",
        "Row and column matrices are common in vector and matrix computations. They can also represent row and column spaces of a bigger vector space. Row and column matrices are represented by a single column or single row. So with that being, the shape of row matrices would be $1 \\times j$ and column matrices would be $i \\times 1$."
      ]
    },
    {
      "cell_type": "code",
      "metadata": {
        "id": "Ddc899xwFA7b",
        "colab": {
          "base_uri": "https://localhost:8080/"
        },
        "outputId": "5cb081d4-a150-4785-9ff2-4a33ca957bdc"
      },
      "source": [
        "## Declaring a Row Matrix\r\n",
        "r = np.array([[1,2,3,4,5]])\r\n",
        "describe_mat(r)"
      ],
      "execution_count": null,
      "outputs": [
        {
          "output_type": "stream",
          "text": [
            "Matrix:\n",
            "[[1 2 3 4 5]]\n",
            "\n",
            "Shape:\t(1, 5)\n",
            "Rank:\t2\n",
            "\n"
          ],
          "name": "stdout"
        }
      ]
    },
    {
      "cell_type": "code",
      "metadata": {
        "id": "Y_7qozkmFHIj",
        "colab": {
          "base_uri": "https://localhost:8080/"
        },
        "outputId": "d198d023-51fc-4bc6-8840-9f71dafb3efa"
      },
      "source": [
        "## Declaring a Column Matrix\r\n",
        "colm = np.array([\r\n",
        "                [1],\r\n",
        "                [2],\r\n",
        "                [3],\r\n",
        "                [4],\r\n",
        "                [5]\r\n",
        "])\r\n",
        "describe_mat(colm)"
      ],
      "execution_count": null,
      "outputs": [
        {
          "output_type": "stream",
          "text": [
            "Matrix:\n",
            "[[1]\n",
            " [2]\n",
            " [3]\n",
            " [4]\n",
            " [5]]\n",
            "\n",
            "Shape:\t(5, 1)\n",
            "Rank:\t2\n",
            "\n"
          ],
          "name": "stdout"
        }
      ]
    },
    {
      "cell_type": "markdown",
      "metadata": {
        "id": "B9v0LYERFK1a"
      },
      "source": [
        "#### <i>Square Matrices</i>\r\n",
        "Square matrices are matrices that have the same row and column sizes. We could say a matrix is square if $i = j$. We can tweak our matrix descriptor function to determine square matrices."
      ]
    },
    {
      "cell_type": "code",
      "metadata": {
        "id": "TjUWmKseFIkL"
      },
      "source": [
        "def describe_mat(matrix):\r\n",
        "    is_square = True if matrix.shape[0] == matrix.shape[1] else False \r\n",
        "    print(f'Matrix:\\n{matrix}\\n\\nShape:\\t{matrix.shape}\\nRank:\\t{matrix.ndim}\\nIs Square: {is_square}\\n')"
      ],
      "execution_count": null,
      "outputs": []
    },
    {
      "cell_type": "code",
      "metadata": {
        "colab": {
          "base_uri": "https://localhost:8080/"
        },
        "id": "OJ2snbbYm6n2",
        "outputId": "39225927-4635-4555-d14c-bc8d7f0c117a"
      },
      "source": [
        "square_mat = np.array([\r\n",
        "    [1,2,3],\r\n",
        "    [4,5,6],\r\n",
        "    [7,8,9]\r\n",
        "])\r\n",
        "describe_mat(square_mat)"
      ],
      "execution_count": null,
      "outputs": [
        {
          "output_type": "stream",
          "text": [
            "Matrix:\n",
            "[[1 2 3]\n",
            " [4 5 6]\n",
            " [7 8 9]]\n",
            "\n",
            "Shape:\t(3, 3)\n",
            "Rank:\t2\n",
            "Is Square: True\n",
            "\n"
          ],
          "name": "stdout"
        }
      ]
    },
    {
      "cell_type": "markdown",
      "metadata": {
        "id": "QLWp8IaxFQHJ"
      },
      "source": [
        "### Matrices according to element values"
      ]
    },
    {
      "cell_type": "markdown",
      "metadata": {
        "id": "YXYw9-pxFS8Z"
      },
      "source": [
        "#### <i>Empty Matrix</i>\r\n",
        "\r\n",
        "An empty Matrix is a matrix that has no elements. It is always a subspace of any vector or matrix."
      ]
    },
    {
      "cell_type": "code",
      "metadata": {
        "id": "xlO-lmVBFRNA"
      },
      "source": [
        "empty_mat = np.array([])"
      ],
      "execution_count": null,
      "outputs": []
    },
    {
      "cell_type": "code",
      "metadata": {
        "id": "vUhqV3w0m-c_"
      },
      "source": [
        "def describe_mat(matrix):\r\n",
        "    if matrix.size > 0:\r\n",
        "        is_square = True if matrix.shape[0] == matrix.shape[1] else False \r\n",
        "        print(f'Matrix:\\n{matrix}\\n\\nShape:\\t{matrix.shape}\\nRank:\\t{matrix.ndim}\\n')\r\n",
        "    else:\r\n",
        "        print('Matrix is empty')"
      ],
      "execution_count": null,
      "outputs": []
    },
    {
      "cell_type": "code",
      "metadata": {
        "colab": {
          "base_uri": "https://localhost:8080/"
        },
        "id": "XxQop9Q2m_gc",
        "outputId": "cf05ad35-c0a7-4d10-fc4c-2fd2c51fe573"
      },
      "source": [
        "describe_mat(empty_mat)"
      ],
      "execution_count": null,
      "outputs": [
        {
          "output_type": "stream",
          "text": [
            "Matrix is empty\n"
          ],
          "name": "stdout"
        }
      ]
    },
    {
      "cell_type": "markdown",
      "metadata": {
        "id": "ofntAyNKFVkA"
      },
      "source": [
        "#### <i>Zero/Null Matrix</i>\r\n",
        "A zero matrix can be any rectangular matrix but with all elements having a value of 0. In most texts, the zero matrix is denoted as $\\emptyset$.<br>\r\n",
        "Check out: [`numpy.zeros`](https://numpy.org/doc/stable/reference/generated/numpy.zeros.html)"
      ]
    },
    {
      "cell_type": "code",
      "metadata": {
        "id": "bN4orlEzFV34",
        "colab": {
          "base_uri": "https://localhost:8080/"
        },
        "outputId": "b704a4b1-818e-4ab2-fe1c-44936759c554"
      },
      "source": [
        "mtrx_3 = np.array([   \r\n",
        "    [0,0,0],\r\n",
        "    [0,0,0],\r\n",
        "    [0,0,0]\r\n",
        "])\r\n",
        "describe_mat(mtrx_3)"
      ],
      "execution_count": null,
      "outputs": [
        {
          "output_type": "stream",
          "text": [
            "Matrix:\n",
            "[[0 0 0]\n",
            " [0 0 0]\n",
            " [0 0 0]]\n",
            "\n",
            "Shape:\t(3, 3)\n",
            "Rank:\t2\n",
            "\n"
          ],
          "name": "stdout"
        }
      ]
    },
    {
      "cell_type": "markdown",
      "metadata": {
        "id": "CHwAtgfaFWWY"
      },
      "source": [
        "#### <i>Ones Matrix</i>\r\n",
        "A ones matrix, just like zero matrices, can be any rectangular matrix but all of its elements are 1s instead of 0s.\r\n",
        "\r\n",
        "Check out: [`numpy.ones`](https://numpy.org/doc/stable/reference/generated/numpy.ones.html)"
      ]
    },
    {
      "cell_type": "code",
      "metadata": {
        "id": "wZayvxxRFYHI",
        "colab": {
          "base_uri": "https://localhost:8080/"
        },
        "outputId": "3505053b-3db8-4691-e1b2-492cdd8f2d6a"
      },
      "source": [
        "ones = np.array([   \r\n",
        "    [1,1,1],\r\n",
        "    [1,1,1],\r\n",
        "    [1,1,1]\r\n",
        "])\r\n",
        "describe_mat(ones)"
      ],
      "execution_count": null,
      "outputs": [
        {
          "output_type": "stream",
          "text": [
            "Matrix:\n",
            "[[1 1 1]\n",
            " [1 1 1]\n",
            " [1 1 1]]\n",
            "\n",
            "Shape:\t(3, 3)\n",
            "Rank:\t2\n",
            "\n"
          ],
          "name": "stdout"
        }
      ]
    },
    {
      "cell_type": "markdown",
      "metadata": {
        "id": "_Y2fAx-rFYgg"
      },
      "source": [
        "#### <i>Diagonal Matrix</i>\r\n",
        "\r\n",
        "Check out: [`numpy.diag`](https://numpy.org/doc/stable/reference/generated/numpy.diag.html)"
      ]
    },
    {
      "cell_type": "code",
      "metadata": {
        "id": "qbl75HLUFaCQ",
        "colab": {
          "base_uri": "https://localhost:8080/"
        },
        "outputId": "dfeeda86-0c26-4c9a-eaab-9d64efa4e418"
      },
      "source": [
        "diag= np.array([\r\n",
        "   [1,0,0],\r\n",
        "   [0,1,0],\r\n",
        "   [0,0,1]\r\n",
        "])\r\n",
        "describe_mat(diag)"
      ],
      "execution_count": null,
      "outputs": [
        {
          "output_type": "stream",
          "text": [
            "Matrix:\n",
            "[[1 0 0]\n",
            " [0 1 0]\n",
            " [0 0 1]]\n",
            "\n",
            "Shape:\t(3, 3)\n",
            "Rank:\t2\n",
            "\n"
          ],
          "name": "stdout"
        }
      ]
    },
    {
      "cell_type": "markdown",
      "metadata": {
        "id": "pLxVWf2tFaaT"
      },
      "source": [
        "#### <i>Identity Matrix</i>\r\n",
        "An identity matrix is a special diagonal matrix in which the values at the diagonal are ones. In most texts, the identity matrix is denoted as $I$.<br>\r\n",
        "Check out: \r\n",
        "* [`numpy.eye`](https://numpy.org/doc/stable/reference/generated/numpy.eye.html)\r\n",
        "* [`numpy.identity`](https://numpy.org/doc/stable/reference/generated/numpy.identity.html)"
      ]
    },
    {
      "cell_type": "code",
      "metadata": {
        "id": "snCHNo94FcuQ",
        "colab": {
          "base_uri": "https://localhost:8080/"
        },
        "outputId": "eb26efc0-ee44-4030-8fb6-fbc5293e8865"
      },
      "source": [
        "identity = np.eye(3)\r\n",
        "describe_mat(identity)"
      ],
      "execution_count": null,
      "outputs": [
        {
          "output_type": "stream",
          "text": [
            "Matrix:\n",
            "[[1. 0. 0.]\n",
            " [0. 1. 0.]\n",
            " [0. 0. 1.]]\n",
            "\n",
            "Shape:\t(3, 3)\n",
            "Rank:\t2\n",
            "\n"
          ],
          "name": "stdout"
        }
      ]
    },
    {
      "cell_type": "markdown",
      "metadata": {
        "id": "4sp2nmx1FdBg"
      },
      "source": [
        "#### <i>Scalar Matrix</i>\r\n",
        "Since scalars cannot be explicitly operated with matrices, one workaround is to convert scalars into matrices. This is done by a matrix with all diagonal values equal to the original scalar."
      ]
    },
    {
      "cell_type": "code",
      "metadata": {
        "id": "y5kOPm9uFel4",
        "colab": {
          "base_uri": "https://localhost:8080/"
        },
        "outputId": "c4aecfb4-2eed-425b-d087-0fa07afac184"
      },
      "source": [
        "s_matrix = np.array([\r\n",
        "    [5,0,0],\t\r\n",
        "    [0,5,0],\r\n",
        "    [0,0,5]\r\n",
        "])\r\n",
        "describe_mat(s_matrix)"
      ],
      "execution_count": null,
      "outputs": [
        {
          "output_type": "stream",
          "text": [
            "Matrix:\n",
            "[[5 0 0]\n",
            " [0 5 0]\n",
            " [0 0 5]]\n",
            "\n",
            "Shape:\t(3, 3)\n",
            "Rank:\t2\n",
            "\n"
          ],
          "name": "stdout"
        }
      ]
    },
    {
      "cell_type": "markdown",
      "metadata": {
        "id": "LRidQS1PFfSB"
      },
      "source": [
        "#### <i>Upper Triangular Matrix</i>\r\n",
        "An upper triangular matrix is a matrix that has no values below the diagonal."
      ]
    },
    {
      "cell_type": "code",
      "metadata": {
        "id": "Hznqw8iIFhPo",
        "colab": {
          "base_uri": "https://localhost:8080/"
        },
        "outputId": "de58ffa0-2bfe-4c85-9dcb-eefe9945cceb"
      },
      "source": [
        "ut = np.array([\r\n",
        "    [1,2,3],\r\n",
        "    [0,3,1],\r\n",
        "    [0,0,5]\r\n",
        "])\r\n",
        "print(ut)"
      ],
      "execution_count": null,
      "outputs": [
        {
          "output_type": "stream",
          "text": [
            "[[1 2 3]\n",
            " [0 3 1]\n",
            " [0 0 5]]\n"
          ],
          "name": "stdout"
        }
      ]
    },
    {
      "cell_type": "markdown",
      "metadata": {
        "id": "fIt_zh7vFhuy"
      },
      "source": [
        "#### <i>Lower Triangular Matrix</i>\r\n",
        "\r\n",
        "\r\n",
        "A lower triangular matrix is a matrix that has no values above the diagonal."
      ]
    },
    {
      "cell_type": "code",
      "metadata": {
        "id": "L8AHzCphFjTh",
        "colab": {
          "base_uri": "https://localhost:8080/"
        },
        "outputId": "73b97f7b-2ee9-483f-b5e4-cf5918f7118c"
      },
      "source": [
        "lt = np.array([\r\n",
        "    [1,0,0],\r\n",
        "    [7,1,2],\r\n",
        "    [9,6,5]\r\n",
        "])\r\n",
        "print(lt)"
      ],
      "execution_count": null,
      "outputs": [
        {
          "output_type": "stream",
          "text": [
            "[[1 0 0]\n",
            " [7 1 2]\n",
            " [9 6 5]]\n"
          ],
          "name": "stdout"
        }
      ]
    },
    {
      "cell_type": "markdown",
      "metadata": {
        "id": "YrHljLnqFkGp"
      },
      "source": [
        "# Matrix / Tensor Algebra\r\n",
        "Moving forward with matrices, vectors, and tensors. We'll try to see them in action using the commonly used operations for tensors. We will now dwell on the concepts and applications of Tensor Algebra"
      ]
    },
    {
      "cell_type": "markdown",
      "metadata": {
        "id": "DHOcEAhmFnqx"
      },
      "source": [
        "## Arithmetic / Element-wise Operations\r\n",
        "Check out: \r\n",
        "* [`numpy.add`](https://numpy.org/doc/stable/reference/generated/numpy.add.html)\r\n",
        "* [`numpy.sum`](https://numpy.org/doc/stable/reference/generated/numpy.sum.html)\r\n",
        "* [`numpy.subtract`](https://numpy.org/doc/stable/reference/generated/numpy.subtract.html)\r\n",
        "* [`numpy.multiply`](https://numpy.org/doc/stable/reference/generated/numpy.multiply.html)\r\n",
        "* [`numpy.square`](https://numpy.org/doc/stable/reference/generated/numpy.square.html)\r\n",
        "* [`numpy.divide`](https://numpy.org/doc/stable/reference/generated/numpy.divide.html)"
      ]
    },
    {
      "cell_type": "code",
      "metadata": {
        "id": "2uWM0oFZFmTJ",
        "colab": {
          "base_uri": "https://localhost:8080/"
        },
        "outputId": "47437220-6d41-4a0c-c83e-ff6513c0c245"
      },
      "source": [
        "## Addition\r\n",
        "A = np.array([\r\n",
        "    [1,2],\r\n",
        "    [2,3],\r\n",
        "\r\n",
        "])\r\n",
        "B = np.array([\r\n",
        "    [1,2],\r\n",
        "    [0,0],\r\n",
        "])\r\n",
        "A+B"
      ],
      "execution_count": null,
      "outputs": [
        {
          "output_type": "execute_result",
          "data": {
            "text/plain": [
              "array([[2, 4],\n",
              "       [2, 3]])"
            ]
          },
          "metadata": {
            "tags": []
          },
          "execution_count": 30
        }
      ]
    },
    {
      "cell_type": "code",
      "metadata": {
        "id": "BRgjTiETFqzK",
        "colab": {
          "base_uri": "https://localhost:8080/"
        },
        "outputId": "69c3cd94-2526-4451-8cec-448b00a21b4c"
      },
      "source": [
        "## Subtraction\r\n",
        "A-B"
      ],
      "execution_count": null,
      "outputs": [
        {
          "output_type": "execute_result",
          "data": {
            "text/plain": [
              "array([[0, 0],\n",
              "       [2, 3]])"
            ]
          },
          "metadata": {
            "tags": []
          },
          "execution_count": 31
        }
      ]
    },
    {
      "cell_type": "code",
      "metadata": {
        "id": "gaq2uDF1Fr1x",
        "colab": {
          "base_uri": "https://localhost:8080/"
        },
        "outputId": "785ac45d-ca4a-4135-9c70-e2016704beb8"
      },
      "source": [
        "## Multiplication\r\n",
        "A*B"
      ],
      "execution_count": null,
      "outputs": [
        {
          "output_type": "execute_result",
          "data": {
            "text/plain": [
              "array([[1, 4],\n",
              "       [0, 0]])"
            ]
          },
          "metadata": {
            "tags": []
          },
          "execution_count": 32
        }
      ]
    },
    {
      "cell_type": "code",
      "metadata": {
        "id": "nmZ5be7lFup5",
        "colab": {
          "base_uri": "https://localhost:8080/"
        },
        "outputId": "ba8dbf1c-196a-4ccf-8a5a-86881f4f67d7"
      },
      "source": [
        "## Division\r\n",
        "alpha=10**-10\r\n",
        "A/(alpha+B)"
      ],
      "execution_count": null,
      "outputs": [
        {
          "output_type": "execute_result",
          "data": {
            "text/plain": [
              "array([[1.e+00, 1.e+00],\n",
              "       [2.e+10, 3.e+10]])"
            ]
          },
          "metadata": {
            "tags": []
          },
          "execution_count": 33
        }
      ]
    },
    {
      "cell_type": "markdown",
      "metadata": {
        "id": "teroH5PJF1Fw"
      },
      "source": [
        "## Transpose of a Matrix\r\n",
        "One of the fundamental operations in matrix algebra is Transposition. The transpose of a matrix is done by flipping the values of its elements over its diagonals. With this, the rows and columns from the original matrix will be switched. So for a matrix $A$ its transpose is denoted as $A^T$. So for example:\r\n",
        "\r\n",
        "$$A = \\begin{bmatrix} 1 & 2 & 5\\\\5 & -1 &0 \\\\ 0 & -3 & 3\\end{bmatrix} $$\r\n",
        "$$ A^T = \\begin{bmatrix} 1 & 5 & 0\\\\2 & -1 &-3 \\\\ 5 & 0 & 3\\end{bmatrix}$$\r\n",
        "This can now be achieved programmatically by using `np.transpose()` or using the `T` method.<br>\r\n",
        "Check out:\r\n",
        "* [`np.transpose`](https://numpy.org/doc/stable/reference/generated/numpy.transpose.html)\r\n"
      ]
    },
    {
      "cell_type": "code",
      "metadata": {
        "id": "GbI3wbxTF3pJ",
        "colab": {
          "base_uri": "https://localhost:8080/"
        },
        "outputId": "5d509610-ca11-41d3-e1a1-235bc819c815"
      },
      "source": [
        "tp1 = np.array([\r\n",
        "    [1 ,2, 5],\r\n",
        "    [5, -1, 0],\r\n",
        "    [0, -3, 3]\r\n",
        "])\r\n",
        "\r\n",
        "np.transpose(tp1)"
      ],
      "execution_count": null,
      "outputs": [
        {
          "output_type": "execute_result",
          "data": {
            "text/plain": [
              "array([[ 1,  5,  0],\n",
              "       [ 2, -1, -3],\n",
              "       [ 5,  0,  3]])"
            ]
          },
          "metadata": {
            "tags": []
          },
          "execution_count": 34
        }
      ]
    },
    {
      "cell_type": "markdown",
      "metadata": {
        "id": "66BnVMxeF5rB"
      },
      "source": [
        "## Vector Product\r\n",
        "The inner product of a vector is the sum of the products of each element of the vectors. So given vectors $H$ and $G$ below:\r\n",
        "$$H=\\begin{bmatrix}1\\\\3\\\\6\\end{bmatrix}, G = \\begin{bmatrix}5\\\\2\\\\1\\end{bmatrix}$$\r\n",
        "We first take the element-wise product of the vectors:\r\n",
        "$$H*G = \\begin{bmatrix}5\\\\6\\\\6\\end{bmatrix}$$\r\n",
        "Then we take the sum of the products, making it the inner product of a vector:\r\n",
        "$$H\\cdot G = 17$$\r\n",
        "You can solve for the inner product using an explicit function, `np.inner()` or the `@` operator.<br>\r\n",
        "Check out:\r\n",
        "* [`np.inner`](https://numpy.org/doc/stable/reference/generated/numpy.inner.html)"
      ]
    },
    {
      "cell_type": "code",
      "metadata": {
        "id": "-m73UfOQF764",
        "colab": {
          "base_uri": "https://localhost:8080/"
        },
        "outputId": "c70e56f5-b9a3-49ba-80bb-1b18e2c52d6b"
      },
      "source": [
        "d1 = np.array([\r\n",
        "    [2,1],\r\n",
        "    [1,0]\r\n",
        "])\r\n",
        "d2 = np.array([\r\n",
        "    [-1,1],\r\n",
        "    [2,3]\r\n",
        "])\r\n",
        "np.matmul(d1,d2)"
      ],
      "execution_count": null,
      "outputs": [
        {
          "output_type": "execute_result",
          "data": {
            "text/plain": [
              "array([[ 0,  5],\n",
              "       [-1,  1]])"
            ]
          },
          "metadata": {
            "tags": []
          },
          "execution_count": 35
        }
      ]
    },
    {
      "cell_type": "markdown",
      "metadata": {
        "id": "1yvij6t2F90h"
      },
      "source": [
        "In matrix dot products, we are going to get the sum of products of the vectors by row-column pairs. So if we have two matrices $X$ and $Y$:\r\n",
        "\r\n",
        "$$X = \\begin{bmatrix}x_{(0,0)}&x_{(0,1)}\\\\ x_{(1,0)}&x_{(1,1)}\\end{bmatrix}, Y = \\begin{bmatrix}y_{(0,0)}&y_{(0,1)}\\\\ y_{(1,0)}&y_{(1,1)}\\end{bmatrix}$$\r\n",
        "\r\n",
        "The dot product will then be computed as:\r\n",
        "$$X \\cdot Y= \\begin{bmatrix} x_{(0,0)}*y_{(0,0)} + x_{(0,1)}*y_{(1,0)} & x_{(0,0)}*y_{(0,1)} + x_{(0,1)}*y_{(1,1)} \\\\  x_{(1,0)}*y_{(0,0)} + x_{(1,1)}*y_{(1,0)} & x_{(1,0)}*y_{(0,1)} + x_{(1,1)}*y_{(1,1)}\r\n",
        "\\end{bmatrix}$$\r\n",
        "\r\n",
        "So if we assign values to $X$ and $Y$:\r\n",
        "$$X = \\begin{bmatrix}1&2\\\\0&1\\end{bmatrix}, Y = \\begin{bmatrix}-1&0\\\\ 2&2\\end{bmatrix}$$\r\n",
        "Check out:\r\n",
        "* [`np.dot`](https://numpy.org/doc/stable/reference/generated/numpy.inner.html)"
      ]
    },
    {
      "cell_type": "code",
      "metadata": {
        "id": "HdKvvQ4IF-Ep",
        "colab": {
          "base_uri": "https://localhost:8080/"
        },
        "outputId": "0ca4cbfc-7443-427c-f873-47eb55a149a9"
      },
      "source": [
        "np.dot(d1,d2)"
      ],
      "execution_count": null,
      "outputs": [
        {
          "output_type": "execute_result",
          "data": {
            "text/plain": [
              "array([[ 0,  5],\n",
              "       [-1,  1]])"
            ]
          },
          "metadata": {
            "tags": []
          },
          "execution_count": 36
        }
      ]
    },
    {
      "cell_type": "markdown",
      "metadata": {
        "id": "_oK1tJptGAER"
      },
      "source": [
        "In matrix dot products there are additional rules compared with vector dot products. Since vector dot products were just in one dimension, there are fewer restrictions. Since now we are dealing with Rank 2 vectors we need to consider some rules:\r\n",
        "\r\n",
        "**Rule 1: The inner dimensions of the two matrices in question must be the same.**\r\n",
        "\r\n",
        "So given a matrix $A$ with a shape of $(a,b)$ where $a$ and $b$ are any integers. If we want to do a dot product between $A$ and another matrix $B$, then matrix $B$ should have a shape of $(b,c)$ where $b$ and $c$ are any integers. So for given the following matrices:\r\n",
        "\r\n",
        "$$A = \\begin{bmatrix}2&4\\\\5&-2\\\\0&1\\end{bmatrix}, B = \\begin{bmatrix}1&1\\\\3&3\\\\-1&-2\\end{bmatrix}, C = \\begin{bmatrix}0&1&1\\\\1&1&2\\end{bmatrix}$$\r\n",
        "\r\n",
        "So in this case $A$ has a shape of $(3,2)$, $B$ has a shape of $(3,2)$ and $C$ has a shape of $(2,3)$. So the only matrix pairs that is eligible to perform dot product is matrices $A \\cdot C$, or $B \\cdot C$.  "
      ]
    },
    {
      "cell_type": "code",
      "metadata": {
        "id": "JxDIYsPcGF3p",
        "colab": {
          "base_uri": "https://localhost:8080/"
        },
        "outputId": "0d06a01b-cdc5-43cd-febc-38dc95b297b1"
      },
      "source": [
        "dp1 = np.array([\r\n",
        "    [4, 2],\r\n",
        "    [-1, -2],\r\n",
        "    [0, 1]\r\n",
        "])\r\n",
        "dp2 = np.array([\r\n",
        "    [1,1],\r\n",
        "    [2,2],\r\n",
        "    [-2,-1]\r\n",
        "])\r\n",
        "C = np.array([\r\n",
        "    [0,1,1],\r\n",
        "    [1,1,2]\r\n",
        "])\r\n",
        "print(A.shape)\r\n",
        "print(B.shape)\r\n",
        "print(C.shape)"
      ],
      "execution_count": null,
      "outputs": [
        {
          "output_type": "stream",
          "text": [
            "(2, 2)\n",
            "(2, 2)\n",
            "(2, 3)\n"
          ],
          "name": "stdout"
        }
      ]
    },
    {
      "cell_type": "markdown",
      "metadata": {
        "id": "MfSjkrITGGOZ"
      },
      "source": [
        "**Rule 2: Dot Product has special properties**\r\n",
        "\r\n",
        "Dot products are prevalent in matrix algebra, this implies that it has several unique properties and it should be considered when formulation solutions:\r\n",
        " 1. $A \\cdot B \\neq B \\cdot A$\r\n",
        " 2. $A \\cdot (B \\cdot C) = (A \\cdot B) \\cdot C$\r\n",
        " 3. $A\\cdot(B+C) = A\\cdot B + A\\cdot C$\r\n",
        " 4. $(B+C)\\cdot A = B\\cdot A + C\\cdot A$\r\n",
        " 5. $A\\cdot I = A$\r\n",
        " 6. $A\\cdot \\emptyset = \\emptyset$ "
      ]
    },
    {
      "cell_type": "code",
      "metadata": {
        "id": "g4dRHPVOGlig"
      },
      "source": [
        "A = np.array([\r\n",
        "    [1,2,3],\r\n",
        "    [4,5,6],\r\n",
        "    [7,8,9]\r\n",
        "])\r\n",
        "B = np.array([\r\n",
        "    [8,7,9],\r\n",
        "    [4,3,5],\r\n",
        "    [6,2,1]\r\n",
        "])\r\n",
        "C = np.array([\r\n",
        "    [3,6,9],\r\n",
        "    [7,2,3],\r\n",
        "    [4,5,8]\r\n",
        "])"
      ],
      "execution_count": null,
      "outputs": []
    },
    {
      "cell_type": "code",
      "metadata": {
        "colab": {
          "base_uri": "https://localhost:8080/"
        },
        "id": "uWj6PhqUn08L",
        "outputId": "f4197a17-9faf-49a9-e7ed-7bbe16d238bf"
      },
      "source": [
        "##number 1\r\n",
        "A @ B"
      ],
      "execution_count": null,
      "outputs": [
        {
          "output_type": "execute_result",
          "data": {
            "text/plain": [
              "array([[ 34,  19,  22],\n",
              "       [ 88,  55,  67],\n",
              "       [142,  91, 112]])"
            ]
          },
          "metadata": {
            "tags": []
          },
          "execution_count": 39
        }
      ]
    },
    {
      "cell_type": "code",
      "metadata": {
        "colab": {
          "base_uri": "https://localhost:8080/"
        },
        "id": "Pbx7vnFln4xZ",
        "outputId": "bb41549e-40a7-4188-f9bc-488b92134223"
      },
      "source": [
        "B @ A"
      ],
      "execution_count": null,
      "outputs": [
        {
          "output_type": "execute_result",
          "data": {
            "text/plain": [
              "array([[ 99, 123, 147],\n",
              "       [ 51,  63,  75],\n",
              "       [ 21,  30,  39]])"
            ]
          },
          "metadata": {
            "tags": []
          },
          "execution_count": 40
        }
      ]
    },
    {
      "cell_type": "code",
      "metadata": {
        "colab": {
          "base_uri": "https://localhost:8080/"
        },
        "id": "iaKwetC1n6q4",
        "outputId": "7c2af30f-3fab-4d48-d358-ebf819f74ef3"
      },
      "source": [
        "(A @ B) == (B @ A)"
      ],
      "execution_count": null,
      "outputs": [
        {
          "output_type": "execute_result",
          "data": {
            "text/plain": [
              "array([[False, False, False],\n",
              "       [False, False, False],\n",
              "       [False, False, False]])"
            ]
          },
          "metadata": {
            "tags": []
          },
          "execution_count": 41
        }
      ]
    },
    {
      "cell_type": "code",
      "metadata": {
        "colab": {
          "base_uri": "https://localhost:8080/"
        },
        "id": "vtxpSmacn65Q",
        "outputId": "8d0fd52d-1334-46e0-cf49-a205d081de26"
      },
      "source": [
        "#Number 2\r\n",
        "A @ (B@C)"
      ],
      "execution_count": null,
      "outputs": [
        {
          "output_type": "execute_result",
          "data": {
            "text/plain": [
              "array([[ 323,  352,  539],\n",
              "       [ 917,  973, 1493],\n",
              "       [1511, 1594, 2447]])"
            ]
          },
          "metadata": {
            "tags": []
          },
          "execution_count": 42
        }
      ]
    },
    {
      "cell_type": "code",
      "metadata": {
        "colab": {
          "base_uri": "https://localhost:8080/"
        },
        "id": "CoM7_OtJn93O",
        "outputId": "ddf04725-e6bf-47f0-ead4-2fb7490a4dae"
      },
      "source": [
        "(A@B) @ C"
      ],
      "execution_count": null,
      "outputs": [
        {
          "output_type": "execute_result",
          "data": {
            "text/plain": [
              "array([[ 323,  352,  539],\n",
              "       [ 917,  973, 1493],\n",
              "       [1511, 1594, 2447]])"
            ]
          },
          "metadata": {
            "tags": []
          },
          "execution_count": 43
        }
      ]
    },
    {
      "cell_type": "code",
      "metadata": {
        "colab": {
          "base_uri": "https://localhost:8080/"
        },
        "id": "j2HbkdWUoAYZ",
        "outputId": "2b045a4a-0ce9-4c8f-c853-5281cb5ce8c8"
      },
      "source": [
        "A @ (B@C)== (A@B) @ C"
      ],
      "execution_count": null,
      "outputs": [
        {
          "output_type": "execute_result",
          "data": {
            "text/plain": [
              "array([[ True,  True,  True],\n",
              "       [ True,  True,  True],\n",
              "       [ True,  True,  True]])"
            ]
          },
          "metadata": {
            "tags": []
          },
          "execution_count": 44
        }
      ]
    },
    {
      "cell_type": "code",
      "metadata": {
        "colab": {
          "base_uri": "https://localhost:8080/"
        },
        "id": "Y2W7AgdHoDls",
        "outputId": "b06f64b7-6482-452c-d349-5db591abb0ac"
      },
      "source": [
        "#Number 4\r\n",
        "(B+C) @ A"
      ],
      "execution_count": null,
      "outputs": [
        {
          "output_type": "execute_result",
          "data": {
            "text/plain": [
              "array([[189, 231, 273],\n",
              "       [ 87, 111, 135],\n",
              "       [101, 127, 153]])"
            ]
          },
          "metadata": {
            "tags": []
          },
          "execution_count": 45
        }
      ]
    },
    {
      "cell_type": "code",
      "metadata": {
        "colab": {
          "base_uri": "https://localhost:8080/"
        },
        "id": "zyGxpWoUoD0E",
        "outputId": "dd82fa0f-c3e5-4410-aef8-b38bb0fa9aa6"
      },
      "source": [
        "(B@A) + C @ A"
      ],
      "execution_count": null,
      "outputs": [
        {
          "output_type": "execute_result",
          "data": {
            "text/plain": [
              "array([[189, 231, 273],\n",
              "       [ 87, 111, 135],\n",
              "       [101, 127, 153]])"
            ]
          },
          "metadata": {
            "tags": []
          },
          "execution_count": 46
        }
      ]
    },
    {
      "cell_type": "code",
      "metadata": {
        "colab": {
          "base_uri": "https://localhost:8080/"
        },
        "id": "NUPCNLZSoHHg",
        "outputId": "137cd279-784f-4293-83b9-24f5f6b5d533"
      },
      "source": [
        "(B+C) @ A == B @ A + C @ A"
      ],
      "execution_count": null,
      "outputs": [
        {
          "output_type": "execute_result",
          "data": {
            "text/plain": [
              "array([[ True,  True,  True],\n",
              "       [ True,  True,  True],\n",
              "       [ True,  True,  True]])"
            ]
          },
          "metadata": {
            "tags": []
          },
          "execution_count": 47
        }
      ]
    },
    {
      "cell_type": "code",
      "metadata": {
        "colab": {
          "base_uri": "https://localhost:8080/"
        },
        "id": "lM5E3H-yoHTj",
        "outputId": "0a812f1d-f8c7-44ff-85e5-d557ded8a318"
      },
      "source": [
        "#Number5 \r\n",
        "I = np.identity(3)\r\n",
        "I"
      ],
      "execution_count": null,
      "outputs": [
        {
          "output_type": "execute_result",
          "data": {
            "text/plain": [
              "array([[1., 0., 0.],\n",
              "       [0., 1., 0.],\n",
              "       [0., 0., 1.]])"
            ]
          },
          "metadata": {
            "tags": []
          },
          "execution_count": 48
        }
      ]
    },
    {
      "cell_type": "code",
      "metadata": {
        "colab": {
          "base_uri": "https://localhost:8080/"
        },
        "id": "WIDWPH3soMFD",
        "outputId": "72b3a151-5fa6-42e6-8b1d-01e6bc2cdbad"
      },
      "source": [
        "#number 6\r\n",
        "A"
      ],
      "execution_count": null,
      "outputs": [
        {
          "output_type": "execute_result",
          "data": {
            "text/plain": [
              "array([[1, 2, 3],\n",
              "       [4, 5, 6],\n",
              "       [7, 8, 9]])"
            ]
          },
          "metadata": {
            "tags": []
          },
          "execution_count": 49
        }
      ]
    },
    {
      "cell_type": "code",
      "metadata": {
        "colab": {
          "base_uri": "https://localhost:8080/"
        },
        "id": "k74NgNRroQJG",
        "outputId": "2d03d294-36c4-4b8c-d02c-2436cbb4deb7"
      },
      "source": [
        "null = 0 \r\n",
        "null"
      ],
      "execution_count": null,
      "outputs": [
        {
          "output_type": "execute_result",
          "data": {
            "text/plain": [
              "0"
            ]
          },
          "metadata": {
            "tags": []
          },
          "execution_count": 50
        }
      ]
    },
    {
      "cell_type": "code",
      "metadata": {
        "colab": {
          "base_uri": "https://localhost:8080/"
        },
        "id": "emAsW00UoQUL",
        "outputId": "d5646501-bb7d-448e-ebbb-6185640c227c"
      },
      "source": [
        "np.dot(A,null)"
      ],
      "execution_count": null,
      "outputs": [
        {
          "output_type": "execute_result",
          "data": {
            "text/plain": [
              "array([[0, 0, 0],\n",
              "       [0, 0, 0],\n",
              "       [0, 0, 0]])"
            ]
          },
          "metadata": {
            "tags": []
          },
          "execution_count": 51
        }
      ]
    },
    {
      "cell_type": "code",
      "metadata": {
        "colab": {
          "base_uri": "https://localhost:8080/"
        },
        "id": "rQgT3YoSoQhK",
        "outputId": "2748f2df-d797-4a34-fd56-bbbf068533e5"
      },
      "source": [
        "np.dot(A,null) == (null)"
      ],
      "execution_count": null,
      "outputs": [
        {
          "output_type": "execute_result",
          "data": {
            "text/plain": [
              "array([[ True,  True,  True],\n",
              "       [ True,  True,  True],\n",
              "       [ True,  True,  True]])"
            ]
          },
          "metadata": {
            "tags": []
          },
          "execution_count": 52
        }
      ]
    },
    {
      "cell_type": "markdown",
      "metadata": {
        "id": "IMysYX4QGiuQ"
      },
      "source": [
        "## Determinants\r\n",
        "A determinant is a scalar value derived from a square matrix. The determinant is a fundamental and important value used in matrix algebra. \r\n",
        "\r\n",
        "The determinant of some matrix $A$ is denoted as $det(A)$ or $|A|$. So let's say $A$ is represented as:\r\n",
        "$$A = \\begin{bmatrix}a_{(0,0)}&a_{(0,1)}\\\\a_{(1,0)}&a_{(1,1)}\\end{bmatrix}$$\r\n",
        "We can compute for the determinant as:\r\n",
        "$$|A| = a_{(0,0)}*a_{(1,1)} - a_{(1,0)}*a_{(0,1)}$$\r\n",
        "So if we have $A$ as:\r\n",
        "$$A = \\begin{bmatrix}1&4\\\\0&3\\end{bmatrix}, |A| = 3$$\r\n",
        "\r\n",
        "But you might wonder how about square matrices beyond the shape $(2,2)$? We can approach this problem by using several methods such as co-factor expansion and the minors method. This can be taught in the lecture of the laboratory but we can achieve the strenuous computation of high-dimensional matrices programmatically using Python. We can achieve this by using [`np.linalg.det`](https://numpy.org/doc/stable/reference/generated/numpy.linalg.det.html)."
      ]
    },
    {
      "cell_type": "code",
      "metadata": {
        "id": "Sj5X1o_mGIRg",
        "colab": {
          "base_uri": "https://localhost:8080/"
        },
        "outputId": "52dbee55-fb31-4e4e-cd7b-6d8dd7b3394f"
      },
      "source": [
        "det_A = np.array([\r\n",
        "    [1,4],\r\n",
        "    [0,2]\r\n",
        "])\r\n",
        "np.linalg.det(det_A)"
      ],
      "execution_count": null,
      "outputs": [
        {
          "output_type": "execute_result",
          "data": {
            "text/plain": [
              "2.0"
            ]
          },
          "metadata": {
            "tags": []
          },
          "execution_count": 53
        }
      ]
    },
    {
      "cell_type": "markdown",
      "metadata": {
        "id": "7j3EPb9ZGsdI"
      },
      "source": [
        "## 2.6 Matrix Inverse\r\n",
        "\r\n",
        "The inverse of a matrix is another fundamental operation in matrix algebra. Determining the inverse of a matrix let us determine if its solvability and its characteristic as a system of linear equation. Another use of the inverse matrix is solving the problem of divisibility between matrices. Although element-wise division exist but dividing the entire concept of matrices does not exists. Inverse matrices provide a related operation that could have the same concept of \"dividing\" matrices.\r\n",
        "\r\n",
        "Now to determine the inverse of a matrix we need to perform several steps. So let's say we have a matrix $M$:\r\n",
        "$$M = \\begin{bmatrix}1&7\\\\-3&5\\end{bmatrix}$$\r\n",
        "First, we need to get the determinant of $M$.\r\n",
        "$$|M| = (1)(5)-(-3)(7) = 26$$\r\n",
        "Next, we need to reform the matrix into the inverse form:\r\n",
        "$$M^{-1} = \\frac{1}{|M|} \\begin{bmatrix} m_{(1,1)} & -m_{(0,1)} \\\\ -m_{(1,0)} & m_{(0,0)}\\end{bmatrix}$$\r\n",
        "So that will be:\r\n",
        "$$M^{-1} = \\frac{1}{26} \\begin{bmatrix} 5 & -7 \\\\ 3 & 1\\end{bmatrix} = \\begin{bmatrix} \\frac{5}{26} & \\frac{-7}{26} \\\\ \\frac{3}{26} & \\frac{1}{26}\\end{bmatrix}$$\r\n",
        "For higher-dimension matrices, you might need to use co-factors, minors, adjugates, and other reduction techniques. To solve this programmatically we can use [`np.linalg.inv`](https://numpy.org/doc/stable/reference/generated/numpy.linalg.inv.html).\r\n",
        "\r\n",
        "To validate the wether if the matric that you have solved is really the inverse, we follow this dot product property for a matrix $M$:\r\n",
        "$$M\\cdot M^{-1} = I$$"
      ]
    },
    {
      "cell_type": "code",
      "metadata": {
        "id": "no8zVYLmGuJ9",
        "colab": {
          "base_uri": "https://localhost:8080/"
        },
        "outputId": "39654e24-ceeb-45a2-ccdd-5f7793ffbf24"
      },
      "source": [
        "M = np.array([\r\n",
        "    [1,8],\r\n",
        "    [-3, 2]\r\n",
        "])\r\n",
        "np.linalg.inv(M)"
      ],
      "execution_count": null,
      "outputs": [
        {
          "output_type": "execute_result",
          "data": {
            "text/plain": [
              "array([[ 0.07692308, -0.30769231],\n",
              "       [ 0.11538462,  0.03846154]])"
            ]
          },
          "metadata": {
            "tags": []
          },
          "execution_count": 54
        }
      ]
    },
    {
      "cell_type": "markdown",
      "metadata": {
        "id": "hmNLmGPvGuig"
      },
      "source": [
        "# System of Linear Equations\r\n",
        "\r\n",
        "Solving linear equations is one of the fundamental skills of higher engineering mathematics. Aside from solving them, we must be skilled enough to spot them in the wild as well.\r\n",
        "\r\n",
        "Given an equation:\r\n",
        "$$\r\n",
        "B = \\left\\{\r\n",
        "    \\begin{array}\\\\\r\n",
        "        x+y+z=1\\\\ \r\n",
        "        3x -2y -z=4 \\\\\r\n",
        "        -x + 4y +2z=-3\r\n",
        "    \\end{array}\r\n",
        "\\right. $$\r\n",
        "\r\n",
        "We can represent it in matrix form considering the linear combination of the equations. We can also think of its dot product form:\r\n",
        "$$\r\n",
        "\\begin{bmatrix}1&1&1\\\\3&-2&-1\\\\-1&4&2\\end{bmatrix} \\cdot \\begin{bmatrix}x\\\\ y\\\\ z\\end{bmatrix} = \\begin{bmatrix}1\\\\4\\\\-3\\end{bmatrix}\r\n",
        "$$\r\n",
        "We can make a general form for this equation by putting our matrices and vectors as variables. So let's say that the matrix $\\begin{bmatrix}1&1&1\\\\3&-2&-1\\\\-1&4&2\\end{bmatrix}$ is $X$ and $\\begin{bmatrix}x\\\\ y\\\\ z\\end{bmatrix} = \\begin{bmatrix}x\\\\y\\\\z\\end{bmatrix}$ is the vector $r$ then the answer $\\begin{bmatrix}1\\\\4\\\\-3\\end{bmatrix}$ as $Y$. So we'll have:\r\n",
        "$$\r\n",
        "X r = Y\r\n",
        "$$\r\n",
        "Our goal is to solve for $r$ so we can solve it algebraically by multiplying both sides with the inverse of $X$, so we'll get:\r\n",
        "$$\r\n",
        "X^{-1}X r = X^{-1}Y\\\\\r\n",
        "Ir = X^{-1}Y\\\\\r\n",
        "r = X^{-1}Y\r\n",
        "$$\r\n",
        "We'll take $r = X^{-1}Y$ as the $\\textbf{vectorized}$ equation as our formula in solving for the vector $r$ or simply solving for $x,y,$and$z$. We can then code that as:"
      ]
    },
    {
      "cell_type": "code",
      "metadata": {
        "id": "GzoKTOWMG8Hh"
      },
      "source": [
        ""
      ],
      "execution_count": null,
      "outputs": []
    },
    {
      "cell_type": "markdown",
      "metadata": {
        "id": "h9cOTHv2IpS4"
      },
      "source": [
        "### Visualizing Vectors\r\n",
        "\r\n",
        "So far I know you have been experiencing mathematical exhaustion due to all these mathematical expressions. Allow me to show you a tad more interesting side of Linear Algebra.\r\n",
        "\r\n",
        "Undoubtedly, one of the most interesting and frustrating parts of Data Analysts and Data Scientist is visualizing data. Although we will be visualizing more on matrices and tensors. So, bear with me here and I'll try to spark a bit of interest in you guys. "
      ]
    },
    {
      "cell_type": "code",
      "metadata": {
        "id": "Q2hEQblFIsAo"
      },
      "source": [
        "### If you haven't installed it use:\r\n",
        "#!pip install matplotlib\r\n",
        "\r\n",
        "import matplotlib.pyplot as plt"
      ],
      "execution_count": null,
      "outputs": []
    },
    {
      "cell_type": "markdown",
      "metadata": {
        "id": "yTjmJzzfItuQ"
      },
      "source": [
        "#### <i>2D Cartersian Plots</i>\r\n",
        "Check out:\r\n",
        "* [`matplotlib.pyplot.xlim`](https://matplotlib.org/3.3.3/api/_as_gen/matplotlib.pyplot.xlim.html)\r\n",
        "* [`matplotlib.pyplot.ylim`](https://matplotlib.org/3.3.3/api/_as_gen/matplotlib.pyplot.ylim.html)\r\n",
        "* [`matplotlib.pyplot.quiver`](https://matplotlib.org/3.3.3/api/_as_gen/matplotlib.pyplot.quiver.html)\r\n",
        "* [`matplotlib.pyplot.grid`](https://matplotlib.org/3.3.3/api/_as_gen/matplotlib.pyplot.grid.html)\r\n",
        "* [`matplotlib.pyplot.show`](https://matplotlib.org/3.3.3/api/_as_gen/matplotlib.pyplot.show.html)"
      ]
    },
    {
      "cell_type": "code",
      "metadata": {
        "id": "hg52Q9AKIvbI",
        "colab": {
          "base_uri": "https://localhost:8080/",
          "height": 286
        },
        "outputId": "a686dc2e-37a7-4ada-ac1f-38f7a599e239"
      },
      "source": [
        "A = np.array([4, 3])\r\n",
        "B = np.array([2, -5])\r\n",
        "\r\n",
        "plt.xlim(-15, 15)\r\n",
        "plt.ylim(-15, 15)\r\n",
        "plt.quiver(0,0, A[0], A[1], angles='xy', scale_units='xy',scale=1, color='red') # Red --> A\r\n",
        "plt.quiver(A[0], A[1], B[0], B[1], angles='xy', scale_units='xy',scale=1, color='b') # Blue --> B\r\n",
        "R = A + B\r\n",
        "print(R)\r\n",
        "\r\n",
        "plt.grid()\r\n",
        "plt.show()"
      ],
      "execution_count": null,
      "outputs": [
        {
          "output_type": "stream",
          "text": [
            "[ 6 -2]\n"
          ],
          "name": "stdout"
        },
        {
          "output_type": "display_data",
          "data": {
            "image/png": "[encoded data removed]",
            "text/plain": [
              "<Figure size 432x288 with 1 Axes>"
            ]
          },
          "metadata": {
            "tags": [],
            "needs_background": "light"
          }
        }
      ]
    },
    {
      "cell_type": "markdown",
      "metadata": {
        "id": "06hJJe31I85Y"
      },
      "source": [
        "## Practice 1: Modulus of a Vector\r\n",
        "The modulus of a vector or the magnitude of a vector can be determined using the Pythagorean theorem. Given the vector $A$ and its scalars denoted as $a_n$ where $n$ is the index of the scalar. So if we have:\r\n",
        "$$A = \\begin{bmatrix}1\\\\2\\end{bmatrix}$$\r\n",
        "We can compute the magnitude as:\r\n",
        "$$||A|| = \\sqrt{a_1^2 + a_2^2} = \\sqrt{1^2 + 2^2} = \\sqrt{5}$$\r\n",
        "So if we have a matrix with more parameters such as:\r\n",
        "$$B=\\begin{bmatrix}2\\\\5\\\\-1\\\\0\\end{bmatrix}$$\r\n",
        "We can generalize the Pythagorean theorem to compute for the magnitude as:\r\n",
        "$$||B|| = \\sqrt{b_1^2 + b_2^2 + b_3^2 + ... +b_n^2} = \\sqrt{\\sum_{n=1}^{N}b_n^2}$$\r\n",
        "And this equation is now called a Euclidian distance or the Euclidean Norm. "
      ]
    },
    {
      "cell_type": "code",
      "metadata": {
        "id": "evLYDA2dI9XQ"
      },
      "source": [
        "import numpy as np"
      ],
      "execution_count": null,
      "outputs": []
    },
    {
      "cell_type": "code",
      "metadata": {
        "id": "PE3hQYzwo02N"
      },
      "source": [
        "##Declaring vector A and B with different size\r\n",
        "vecA = np.array([1,2])\r\n",
        "vecB = np.array([2,5,-1,0])"
      ],
      "execution_count": null,
      "outputs": []
    },
    {
      "cell_type": "code",
      "metadata": {
        "id": "RVnOuFV2o8sf"
      },
      "source": [
        "def ec_norm(vec):\r\n",
        "  print(f'The euclidean norm of vector is: {np.linalg.norm(vec)}')\r\n",
        "  return vec"
      ],
      "execution_count": null,
      "outputs": []
    },
    {
      "cell_type": "code",
      "metadata": {
        "colab": {
          "base_uri": "https://localhost:8080/"
        },
        "id": "975ZhPafo_Sb",
        "outputId": "dd44c33b-369e-498e-836a-8357eaf4b416"
      },
      "source": [
        "print(ec_norm(vecA))\r\n",
        "print(ec_norm(vecB))"
      ],
      "execution_count": null,
      "outputs": [
        {
          "output_type": "stream",
          "text": [
            "The euclidean norm of vector is: 2.23606797749979\n",
            "[1 2]\n",
            "The euclidean norm of vector is: 5.477225575051661\n",
            "[ 2  5 -1  0]\n"
          ],
          "name": "stdout"
        }
      ]
    },
    {
      "cell_type": "markdown",
      "metadata": {
        "id": "-cu1U3rwrv69"
      },
      "source": [
        " To get and perform the result of the Euclidean norm or distance, I used np.linalg.norm to compute one of the eight different matrix norms or one of the vector norms imported from the NumPy function library. It is more efficient to solve the array quickly than manually with np.sqrt or np.sum. [1]"
      ]
    },
    {
      "cell_type": "markdown",
      "metadata": {
        "id": "BrzGwH5cI-Aw"
      },
      "source": [
        "## Practice 2: The Sigmoid\r\n",
        "The sigmoid function is one of the popular Activation Functions which we will discuss later on. The sigmoid is a bounded, differentiable, real function in which its range would be any value from 0 to 1. It is widely used in binary classifications.\r\n",
        "![image](https://upload.wikimedia.org/wikipedia/commons/thumb/8/88/Logistic-curve.svg/1200px-Logistic-curve.svg.png)\r\n",
        "If we were to check the equation characterizing this curve in textbooks or journals it would be:\r\n",
        "$$sig(x)=\\frac{1}{1+e^{-x}}$$\r\n",
        "or\r\n",
        "$$\\sigma(x)=\\frac{1}{1+e^{-x}}$$\r\n",
        "So let's try to translate this in NumPy. You might want to use [`numpy.exp`](https://numpy.org/doc/stable/reference/generated/numpy.exp.html) for this function. <br>\r\n",
        "If you want to read more about the sigmoid function click [here](https://medium.com/@himanshuxd/activation-functions-sigmoid-relu-leaky-relu-and-softmax-basics-for-neural-networks-and-deep-8d9c70eed91e)."
      ]
    },
    {
      "cell_type": "code",
      "metadata": {
        "id": "4UTUaj1pJAH3"
      },
      "source": [
        "##Import the math and matplotplib module.\r\n",
        "import matplotlib.pyplot as plt\r\n",
        "import math"
      ],
      "execution_count": null,
      "outputs": []
    },
    {
      "cell_type": "code",
      "metadata": {
        "id": "pRFvGoAnpfhl"
      },
      "source": [
        "##Declaring  A and B \r\n",
        "sigA = np.array([1,2])\r\n",
        "sigB = np.array([4,5])"
      ],
      "execution_count": null,
      "outputs": []
    },
    {
      "cell_type": "code",
      "metadata": {
        "colab": {
          "base_uri": "https://localhost:8080/"
        },
        "id": "-Qh8zp_UpsDa",
        "outputId": "0e8d3a33-8c48-4709-c7fd-89d2b0a20186"
      },
      "source": [
        "def sigmoid_func(a):\r\n",
        "     x = 1 / (1 + np.exp(-a))\r\n",
        "     return x\r\n",
        "\r\n",
        "print(sigmoid_func(sigA))\r\n",
        "print(sigmoid_func(sigB)) "
      ],
      "execution_count": null,
      "outputs": [
        {
          "output_type": "stream",
          "text": [
            "[0.73105858 0.88079708]\n",
            "[0.98201379 0.99330715]\n"
          ],
          "name": "stdout"
        }
      ]
    },
    {
      "cell_type": "code",
      "metadata": {
        "colab": {
          "base_uri": "https://localhost:8080/",
          "height": 265
        },
        "id": "h6yc6yaepuy5",
        "outputId": "943c10d2-6c79-4bd9-84dd-44af82f92b1a"
      },
      "source": [
        "##Graph  of sigmoid function\r\n",
        "x = np.linspace(-6, 6, 50) \r\n",
        "z = 1/(1 + np.exp(-x)) \r\n",
        "plt.plot(x, z) \r\n",
        "plt.show()"
      ],
      "execution_count": null,
      "outputs": [
        {
          "output_type": "display_data",
          "data": {
            "image/png": "[encoded data removed]",
            "text/plain": [
              "<Figure size 432x288 with 1 Axes>"
            ]
          },
          "metadata": {
            "tags": [],
            "needs_background": "light"
          }
        }
      ]
    },
    {
      "cell_type": "markdown",
      "metadata": {
        "id": "5XLbu_i6sqbv"
      },
      "source": [
        "The graph above is an example of a sigmid ID function, I have used np.linspace () to create sequences at equal spacing intervals. [2]"
      ]
    },
    {
      "cell_type": "markdown",
      "metadata": {
        "id": "dFJ39sd6rTdm"
      },
      "source": [
        "# Reference\r\n",
        "[1] Educative, Inc.(2021), \" What is the np.linalg.norm() method in NumPy? \". [Online](https://www.educative.io/edpresso/what-is-the-nplinalgnorm-method-in-numpy).\r\n",
        "\r\n",
        "[2]Educative, Inc.(2021), about \"What is the linspace method in NumPy?\". [Online](https://www.educative.io/edpresso/what-is-the-linspace-method-in-numpy)."
      ]
    },
    {
      "cell_type": "code",
      "metadata": {
        "id": "xZUghdJwrnmG"
      },
      "source": [
        ""
      ],
      "execution_count": null,
      "outputs": []
    }
  ]
}